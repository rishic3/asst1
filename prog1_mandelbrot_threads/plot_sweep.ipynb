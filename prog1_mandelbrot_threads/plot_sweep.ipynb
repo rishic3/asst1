{
 "cells": [
  {
   "cell_type": "code",
   "execution_count": null,
   "id": "bdba7aa6",
   "metadata": {},
   "outputs": [],
   "source": [
    "import matplotlib.pyplot as plt\n",
    "\n",
    "def plot_results(results_path, title, save=True):\n",
    "    with open(results_path, 'r') as f:\n",
    "        content = f.readlines()\n",
    "    \n",
    "    content = content[1:]  # skip header\n",
    "    pairs = [line.split(\":\") for line in content]\n",
    "    tids = [int(pair[0]) for pair in pairs]\n",
    "    speedups = [float(pair[1]) for pair in pairs]\n",
    "\n",
    "    plt.figure(figsize=(10, 6))\n",
    "    plt.plot(tids, speedups, 'bo-', linewidth=2, markersize=8)\n",
    "    plt.xlabel('num threads')\n",
    "    plt.ylabel('speedup')\n",
    "    plt.title(title)\n",
    "    plt.grid(True, alpha=0.3)\n",
    "    plt.xlim(min(tids)-0.5, max(tids)+0.5)\n",
    "    plt.ylim(0, max(speedups)*1.1)\n",
    "    \n",
    "    plt.tight_layout()\n",
    "    \n",
    "    if save:\n",
    "        filename = title.replace(\" \", \"_\").lower() + \"_speedup.png\"\n",
    "        plt.savefig(filename, dpi=300, bbox_inches='tight')\n",
    "    \n",
    "    plt.show()\n"
   ]
  },
  {
   "cell_type": "code",
   "execution_count": null,
   "id": "c0849496",
   "metadata": {},
   "outputs": [],
   "source": [
    "plot_results(\"results_view_1.txt\", \"view 1 results\")"
   ]
  },
  {
   "cell_type": "code",
   "execution_count": null,
   "id": "616ee271",
   "metadata": {},
   "outputs": [],
   "source": [
    "plot_results(\"results_view_2.txt\", \"view 2 results\")"
   ]
  },
  {
   "cell_type": "code",
   "execution_count": null,
   "id": "2ed2902a",
   "metadata": {},
   "outputs": [],
   "source": []
  }
 ],
 "metadata": {
  "kernelspec": {
   "display_name": "149",
   "language": "python",
   "name": "python3"
  },
  "language_info": {
   "codemirror_mode": {
    "name": "ipython",
    "version": 3
   },
   "file_extension": ".py",
   "mimetype": "text/x-python",
   "name": "python",
   "nbconvert_exporter": "python",
   "pygments_lexer": "ipython3",
   "version": "3.12.11"
  }
 },
 "nbformat": 4,
 "nbformat_minor": 5
}
